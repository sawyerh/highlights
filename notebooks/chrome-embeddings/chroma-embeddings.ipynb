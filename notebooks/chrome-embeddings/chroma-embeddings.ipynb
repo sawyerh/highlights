{
 "cells": [
  {
   "attachments": {},
   "cell_type": "markdown",
   "metadata": {},
   "source": [
    "## Setup environment\n",
    "\n",
    "1. To run this notebook, run the following commands in the terminal:\n",
    "\n",
    "    ```bash\n",
    "    pip3 install -r requirements.txt\n",
    "    ```\n",
    "    \n",
    "1. Follow the instructions in `firebase/README.md` to export the Firestore data to JSON\n",
    "1. Add the JSON file to `notebook/data/firestore-highlights-export.json`."
   ]
  },
  {
   "attachments": {},
   "cell_type": "markdown",
   "metadata": {},
   "source": [
    "## Setup Chroma\n",
    "By default Chroma uses an in-memory database, which gets persisted on exit and loaded on start (if it exists)."
   ]
  },
  {
   "cell_type": "code",
   "execution_count": null,
   "metadata": {
    "slideshow": {
     "slide_type": "slide"
    }
   },
   "outputs": [],
   "source": [
    "import chroma\n",
    "chroma.import_highlights()"
   ]
  },
  {
   "attachments": {},
   "cell_type": "markdown",
   "metadata": {},
   "source": [
    "## Query the database\n",
    "\n",
    "Enter a query in the `query` variable below. This query will be turned into its own embedding, and then compared to all other embeddings in the database. The results will be sorted by similarity."
   ]
  },
  {
   "cell_type": "code",
   "execution_count": null,
   "metadata": {},
   "outputs": [],
   "source": [
    "query = \"tips for being a team lead\"\n",
    "chroma.search_highlights(query)"
   ]
  }
 ],
 "metadata": {
  "kernelspec": {
   "display_name": "Python 3",
   "language": "python",
   "name": "python3"
  },
  "language_info": {
   "codemirror_mode": {
    "name": "ipython",
    "version": 3
   },
   "file_extension": ".py",
   "mimetype": "text/x-python",
   "name": "python",
   "nbconvert_exporter": "python",
   "pygments_lexer": "ipython3",
   "version": "3.9.10"
  },
  "orig_nbformat": 4
 },
 "nbformat": 4,
 "nbformat_minor": 2
}
