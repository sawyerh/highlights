{
 "cells": [
  {
   "attachments": {},
   "cell_type": "markdown",
   "metadata": {},
   "source": [
    "## Setup environment\n",
    "\n",
    "1. To run this notebook, run the following commands in the terminal:\n",
    "\n",
    "    ```bash\n",
    "    pip3 install -r requirements.txt\n",
    "    ```\n",
    "    \n",
    "1. Follow the instructions in `firebase/README.md` to export the Firestore data to JSON\n",
    "1. Add the JSON file to `chroma-embeddings/data/firestore-highlights-export.json`.\n",
    "1. Add a `chroma-embeddings/.env` file with an `OPENAI_KEY`"
   ]
  },
  {
   "attachments": {},
   "cell_type": "markdown",
   "metadata": {},
   "source": [
    "## Estimate total tokens\n",
    "\n",
    "OpenAI text embedding API charges $0.0004 per 1,000 tokens."
   ]
  },
  {
   "cell_type": "code",
   "execution_count": null,
   "metadata": {},
   "outputs": [],
   "source": [
    "import tiktoken\n",
    "import chroma\n",
    "\n",
    "encoding = tiktoken.encoding_for_model(\"text-embedding-ada-002\")\n",
    "highlights = chroma.read_highlights_export()\n",
    "\n",
    "total_tokens = 0\n",
    "for highlight in highlights:\n",
    "    num_tokens = len(encoding.encode(highlight[\"body\"]))\n",
    "    total_tokens += num_tokens\n",
    "\n",
    "print(f\"Total tokens: {total_tokens}\")"
   ]
  },
  {
   "attachments": {},
   "cell_type": "markdown",
   "metadata": {},
   "source": [
    "## Import highlights"
   ]
  },
  {
   "cell_type": "code",
   "execution_count": null,
   "metadata": {
    "slideshow": {
     "slide_type": "slide"
    }
   },
   "outputs": [],
   "source": [
    "# Optionally set a limit here to speed up the import. Useful for debugging.\n",
    "limit = None\n",
    "\n",
    "chroma.import_highlights(limit)"
   ]
  },
  {
   "attachments": {},
   "cell_type": "markdown",
   "metadata": {},
   "source": [
    "## Query the embeddings\n",
    "\n",
    "Set the `query` variable below with your search. \n",
    "\n",
    "This query will be turned into its own embedding and then compared to all other embeddings in the database. The results will be sorted by similarity. The closer the distance is to 0, the more similar the embeddings are."
   ]
  },
  {
   "cell_type": "code",
   "execution_count": null,
   "metadata": {},
   "outputs": [],
   "source": [
    "query = \"tips for being a team lead\"\n",
    "chroma.search_highlights(query)"
   ]
  }
 ],
 "metadata": {
  "kernelspec": {
   "display_name": "Python 3",
   "language": "python",
   "name": "python3"
  },
  "language_info": {
   "codemirror_mode": {
    "name": "ipython",
    "version": 3
   },
   "file_extension": ".py",
   "mimetype": "text/x-python",
   "name": "python",
   "nbconvert_exporter": "python",
   "pygments_lexer": "ipython3",
   "version": "3.9.10"
  },
  "orig_nbformat": 4
 },
 "nbformat": 4,
 "nbformat_minor": 2
}
